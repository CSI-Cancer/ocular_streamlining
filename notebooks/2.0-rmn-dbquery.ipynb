{
 "cells": [
  {
   "cell_type": "code",
   "execution_count": 4,
   "metadata": {},
   "outputs": [],
   "source": [
    "from csi_utils import databases"
   ]
  },
  {
   "cell_type": "code",
   "execution_count": 5,
   "metadata": {},
   "outputs": [],
   "source": [
    "handler = databases.DatabaseHandler(is_production=True,\n",
    "                                    username=\"reader\",\n",
    "                                    write_protect=True)"
   ]
  },
  {
   "cell_type": "markdown",
   "metadata": {},
   "source": []
  },
  {
   "cell_type": "code",
   "execution_count": 6,
   "metadata": {},
   "outputs": [],
   "source": [
    "def generate_friendly_list(items):\n",
    "    if len(items) > 1:\n",
    "        sql_list = [(item,) for item in items]\n",
    "    else:\n",
    "        sql_list = [(items[0],)]\n",
    "    return sql_list"
   ]
  },
  {
   "cell_type": "code",
   "execution_count": 7,
   "metadata": {},
   "outputs": [],
   "source": [
    "import itertools\n",
    "import pandas as pd\n",
    "tube_ids = ['0ACED', '0AD4C', '0AD68', '0AD7A', '0AD92', '0AD9E', '0ADA2', '0ADAC', '0ADBD', '0ADBF', '0ADCC', '0ADD9', '0ADDE', '0ADFE', '0AE16', '0AE24', '0AE37', '0AE38', '0AE39', '0AE51', '0AE5F', '0AE65', '0AE66', '0AE67', '0AE73', '0AE77', '0AE7C', '0AE7E', '0AE82', '0AE86', '0AE8A', '0AE8B', '0AE8C', '0AE8D', '0AE8D', '0AEB0', '0AEB0', '0AEB5', '0AEB5', '0AEB6', '0AEB6', '0AEBB', '0AEBB', '0AEC3', '0AEC3', '0AEFB', '0AEFB', '0AF03', '0AF03', '0AF08', '0AF08', '0AF1E', '0AF1E', '0AF1F', '0AF1F', '0AF2D', '0AF2D', '0AF3F', '0AF3F', '0AF43', '0AF43', '0AF69', '0AF6A', '0AFA4', '0AFBA', '0AFBC', '0AFBE', '0AFCB', '0B00C', '0B01C']\n",
    "tube_ids = generate_friendly_list(tube_ids)\n",
    "query = [\"SELECT oh.* FROM ocular_hitlist oh JOIN slide s ON oh.slide_id = s.slide_id WHERE s.tube_id = %s\"]* len(tube_ids)\n",
    "query_result = handler.get(query, tube_ids)\n",
    "slides_tubes = pd.DataFrame(list(itertools.chain.from_iterable(query_result['results'])),\n",
    "                                columns=query_result['headers'][0])"
   ]
  },
  {
   "cell_type": "code",
   "execution_count": 9,
   "metadata": {},
   "outputs": [],
   "source": [
    "slides_tubes.to_csv('ocular_hitlist.csv', index=False)"
   ]
  },
  {
   "cell_type": "code",
   "execution_count": null,
   "metadata": {},
   "outputs": [],
   "source": []
  }
 ],
 "metadata": {
  "kernelspec": {
   "display_name": "streamlining",
   "language": "python",
   "name": "python3"
  },
  "language_info": {
   "codemirror_mode": {
    "name": "ipython",
    "version": 3
   },
   "file_extension": ".py",
   "mimetype": "text/x-python",
   "name": "python",
   "nbconvert_exporter": "python",
   "pygments_lexer": "ipython3",
   "version": "3.11.0"
  }
 },
 "nbformat": 4,
 "nbformat_minor": 2
}
